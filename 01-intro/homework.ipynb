{
 "cells": [
  {
   "cell_type": "code",
   "execution_count": 1,
   "id": "ae0908e4-9d41-46ed-8f46-0f1904bb8992",
   "metadata": {},
   "outputs": [],
   "source": [
    "import openai"
   ]
  },
  {
   "cell_type": "code",
   "execution_count": 2,
   "id": "f2d8199c-10e8-44f0-9a5f-e431d6917652",
   "metadata": {},
   "outputs": [],
   "source": [
    "from openai import OpenAI"
   ]
  },
  {
   "cell_type": "code",
   "execution_count": 3,
   "id": "e7d9e58d-5c97-4174-914c-1940851bf8e1",
   "metadata": {},
   "outputs": [],
   "source": [
    "client = OpenAI()"
   ]
  },
  {
   "cell_type": "code",
   "execution_count": 12,
   "id": "f43b2bde-cb17-47d9-90ff-2a00c0d5c23f",
   "metadata": {},
   "outputs": [],
   "source": [
    "response = client.chat.completions.create(\n",
    "#model = 'gpt-3.5-turbo-16k',\n",
    "model = 'gpt-4o',\n",
    "messages = [{\"role\":\"user\",\"content\":\"is it late to join course?\"}]    \n",
    "\n",
    ")"
   ]
  },
  {
   "cell_type": "code",
   "execution_count": 13,
   "id": "40c700e9-c7c5-468d-8d5f-55b14b51dbce",
   "metadata": {},
   "outputs": [
    {
     "data": {
      "text/plain": [
       "\"It's difficult to give a definitive answer without knowing more specifics about the course in question, such as its duration, the current week or module, and the structure (e.g., self-paced or cohort-based). However, here are some general considerations:\\n\\n1. **Course Structure**: \\n   - **Self-Paced**: If the course is self-paced, you can probably join at any time and progress at your own speed.\\n   - **Cohort-Based**: If it's a cohort-based course with set start and end dates, joining late might mean you've missed important introductory material, deadlines, or group activities.\\n\\n2. **Content and Requirements**:\\n   - **Catch-Up**: Assess whether you can realistically catch up on any missed material without overly stressing yourself.\\n   - **Prerequisites**: Ensure you meet all the prerequisites, even if you've missed some initial content.\\n\\n3. **Support and Resources**: \\n   - **Instructor and Peer Support**: Check if there’s support available for late joiners, such as office hours, discussion forums, or tutoring sessions.\\n   - **Recorded Lectures/Materials**: Ensure that all previous materials, lectures, and assignments are accessible so you can get up to speed.\\n\\n4. **Impact on Learning Experience**:\\n   - Consider how joining late might affect your learning experience. Missing the foundational parts of the course could impact your understanding of more advanced topics later on.\\n\\nIf you have the option to contact the course instructor or coordinator, it might be worth discussing your situation with them. They could provide personalized advice on whether joining late would be viable and how best to catch up on missed content.\""
      ]
     },
     "execution_count": 13,
     "metadata": {},
     "output_type": "execute_result"
    }
   ],
   "source": [
    "response.choices[0].message.content"
   ]
  },
  {
   "cell_type": "code",
   "execution_count": null,
   "id": "e56f41b5-1fb8-4c64-be3b-2d3dc1e01be9",
   "metadata": {},
   "outputs": [],
   "source": []
  }
 ],
 "metadata": {
  "kernelspec": {
   "display_name": "Python 3 (ipykernel)",
   "language": "python",
   "name": "python3"
  },
  "language_info": {
   "codemirror_mode": {
    "name": "ipython",
    "version": 3
   },
   "file_extension": ".py",
   "mimetype": "text/x-python",
   "name": "python",
   "nbconvert_exporter": "python",
   "pygments_lexer": "ipython3",
   "version": "3.10.13"
  }
 },
 "nbformat": 4,
 "nbformat_minor": 5
}
